{
 "cells": [
  {
   "cell_type": "code",
   "execution_count": 137,
   "metadata": {},
   "outputs": [],
   "source": [
    "import numpy as np\n",
    "import pandas as pd\n",
    "import matplotlib.pyplot as plt\n",
    "import seaborn as sns\n",
    "import lightgbm as lgb\n",
    "from sklearn.model_selection import StratifiedKFold\n",
    "from sklearn.metrics import roc_auc_score\n",
    "from sklearn.metrics import classification_report\n",
    "from sklearn.metrics import confusion_matrix\n",
    "from hyperopt import fmin, tpe, hp\n",
    "from sklearn.metrics import accuracy_score\n",
    "from sklearn.model_selection import train_test_split \n",
    "\n",
    "%matplotlib inline"
   ]
  },
  {
   "cell_type": "code",
   "execution_count": 245,
   "metadata": {},
   "outputs": [],
   "source": [
    "df = pd.read_csv('database_fires.csv')"
   ]
  },
  {
   "cell_type": "code",
   "execution_count": 246,
   "metadata": {},
   "outputs": [
    {
     "data": {
      "text/html": [
       "<div>\n",
       "<style scoped>\n",
       "    .dataframe tbody tr th:only-of-type {\n",
       "        vertical-align: middle;\n",
       "    }\n",
       "\n",
       "    .dataframe tbody tr th {\n",
       "        vertical-align: top;\n",
       "    }\n",
       "\n",
       "    .dataframe thead th {\n",
       "        text-align: right;\n",
       "    }\n",
       "</style>\n",
       "<table border=\"1\" class=\"dataframe\">\n",
       "  <thead>\n",
       "    <tr style=\"text-align: right;\">\n",
       "      <th></th>\n",
       "      <th>id</th>\n",
       "      <th>estado</th>\n",
       "      <th>estacao</th>\n",
       "      <th>data</th>\n",
       "      <th>precipitacao</th>\n",
       "      <th>temp_max</th>\n",
       "      <th>temp_min</th>\n",
       "      <th>insolacao</th>\n",
       "      <th>evaporacao_piche</th>\n",
       "      <th>temp_comp_med</th>\n",
       "      <th>umidade_rel_med</th>\n",
       "      <th>vel_vento_med</th>\n",
       "      <th>altitude</th>\n",
       "      <th>fires</th>\n",
       "    </tr>\n",
       "  </thead>\n",
       "  <tbody>\n",
       "    <tr>\n",
       "      <th>0</th>\n",
       "      <td>1</td>\n",
       "      <td>AC</td>\n",
       "      <td>50484</td>\n",
       "      <td>01/01/2016</td>\n",
       "      <td>NaN</td>\n",
       "      <td>31.4</td>\n",
       "      <td>NaN</td>\n",
       "      <td>2.3</td>\n",
       "      <td>NaN</td>\n",
       "      <td>NaN</td>\n",
       "      <td>96.0</td>\n",
       "      <td>0.00000</td>\n",
       "      <td>170.0</td>\n",
       "      <td>0</td>\n",
       "    </tr>\n",
       "    <tr>\n",
       "      <th>1</th>\n",
       "      <td>2</td>\n",
       "      <td>AC</td>\n",
       "      <td>50484</td>\n",
       "      <td>02/01/2016</td>\n",
       "      <td>0.0</td>\n",
       "      <td>32.5</td>\n",
       "      <td>23.3</td>\n",
       "      <td>4.4</td>\n",
       "      <td>NaN</td>\n",
       "      <td>26.44</td>\n",
       "      <td>95.0</td>\n",
       "      <td>0.51444</td>\n",
       "      <td>170.0</td>\n",
       "      <td>0</td>\n",
       "    </tr>\n",
       "    <tr>\n",
       "      <th>2</th>\n",
       "      <td>3</td>\n",
       "      <td>AC</td>\n",
       "      <td>50484</td>\n",
       "      <td>03/01/2016</td>\n",
       "      <td>35.2</td>\n",
       "      <td>30.5</td>\n",
       "      <td>24.0</td>\n",
       "      <td>0.6</td>\n",
       "      <td>NaN</td>\n",
       "      <td>25.78</td>\n",
       "      <td>97.0</td>\n",
       "      <td>0.51444</td>\n",
       "      <td>170.0</td>\n",
       "      <td>0</td>\n",
       "    </tr>\n",
       "    <tr>\n",
       "      <th>3</th>\n",
       "      <td>4</td>\n",
       "      <td>AC</td>\n",
       "      <td>50484</td>\n",
       "      <td>04/01/2016</td>\n",
       "      <td>60.2</td>\n",
       "      <td>31.7</td>\n",
       "      <td>22.3</td>\n",
       "      <td>2.0</td>\n",
       "      <td>NaN</td>\n",
       "      <td>25.94</td>\n",
       "      <td>96.0</td>\n",
       "      <td>0.00000</td>\n",
       "      <td>170.0</td>\n",
       "      <td>0</td>\n",
       "    </tr>\n",
       "    <tr>\n",
       "      <th>4</th>\n",
       "      <td>5</td>\n",
       "      <td>AC</td>\n",
       "      <td>50484</td>\n",
       "      <td>05/01/2016</td>\n",
       "      <td>28.4</td>\n",
       "      <td>28.5</td>\n",
       "      <td>23.0</td>\n",
       "      <td>0.1</td>\n",
       "      <td>NaN</td>\n",
       "      <td>25.04</td>\n",
       "      <td>95.0</td>\n",
       "      <td>0.00000</td>\n",
       "      <td>170.0</td>\n",
       "      <td>0</td>\n",
       "    </tr>\n",
       "  </tbody>\n",
       "</table>\n",
       "</div>"
      ],
      "text/plain": [
       "   id estado  estacao        data  precipitacao  temp_max  temp_min  \\\n",
       "0   1     AC    50484  01/01/2016           NaN      31.4       NaN   \n",
       "1   2     AC    50484  02/01/2016           0.0      32.5      23.3   \n",
       "2   3     AC    50484  03/01/2016          35.2      30.5      24.0   \n",
       "3   4     AC    50484  04/01/2016          60.2      31.7      22.3   \n",
       "4   5     AC    50484  05/01/2016          28.4      28.5      23.0   \n",
       "\n",
       "   insolacao  evaporacao_piche  temp_comp_med  umidade_rel_med  vel_vento_med  \\\n",
       "0        2.3               NaN            NaN             96.0        0.00000   \n",
       "1        4.4               NaN          26.44             95.0        0.51444   \n",
       "2        0.6               NaN          25.78             97.0        0.51444   \n",
       "3        2.0               NaN          25.94             96.0        0.00000   \n",
       "4        0.1               NaN          25.04             95.0        0.00000   \n",
       "\n",
       "   altitude  fires  \n",
       "0     170.0      0  \n",
       "1     170.0      0  \n",
       "2     170.0      0  \n",
       "3     170.0      0  \n",
       "4     170.0      0  "
      ]
     },
     "execution_count": 246,
     "metadata": {},
     "output_type": "execute_result"
    }
   ],
   "source": [
    "df.head()"
   ]
  },
  {
   "cell_type": "code",
   "execution_count": 247,
   "metadata": {},
   "outputs": [
    {
     "name": "stdout",
     "output_type": "stream",
     "text": [
      "<class 'pandas.core.frame.DataFrame'>\n",
      "RangeIndex: 251767 entries, 0 to 251766\n",
      "Data columns (total 14 columns):\n",
      "id                  251767 non-null int64\n",
      "estado              251767 non-null object\n",
      "estacao             251767 non-null int64\n",
      "data                251767 non-null object\n",
      "precipitacao        250360 non-null float64\n",
      "temp_max            224873 non-null float64\n",
      "temp_min            240179 non-null float64\n",
      "insolacao           211218 non-null float64\n",
      "evaporacao_piche    178196 non-null float64\n",
      "temp_comp_med       209929 non-null float64\n",
      "umidade_rel_med     218944 non-null float64\n",
      "vel_vento_med       208457 non-null float64\n",
      "altitude            251767 non-null float64\n",
      "fires               251767 non-null int64\n",
      "dtypes: float64(9), int64(3), object(2)\n",
      "memory usage: 26.9+ MB\n"
     ]
    }
   ],
   "source": [
    "df.info()"
   ]
  },
  {
   "cell_type": "code",
   "execution_count": 248,
   "metadata": {},
   "outputs": [
    {
     "data": {
      "text/plain": [
       "239"
      ]
     },
     "execution_count": 248,
     "metadata": {},
     "output_type": "execute_result"
    }
   ],
   "source": [
    "df['estacao'].nunique()"
   ]
  },
  {
   "cell_type": "code",
   "execution_count": 249,
   "metadata": {},
   "outputs": [],
   "source": [
    "df['data'] = pd.to_datetime(df['data'], format='%d/%m/%Y')\n",
    "df['mes'] = df['data'].apply(lambda x: x.month_name())"
   ]
  },
  {
   "cell_type": "code",
   "execution_count": 250,
   "metadata": {},
   "outputs": [
    {
     "data": {
      "text/html": [
       "<div>\n",
       "<style scoped>\n",
       "    .dataframe tbody tr th:only-of-type {\n",
       "        vertical-align: middle;\n",
       "    }\n",
       "\n",
       "    .dataframe tbody tr th {\n",
       "        vertical-align: top;\n",
       "    }\n",
       "\n",
       "    .dataframe thead th {\n",
       "        text-align: right;\n",
       "    }\n",
       "</style>\n",
       "<table border=\"1\" class=\"dataframe\">\n",
       "  <thead>\n",
       "    <tr style=\"text-align: right;\">\n",
       "      <th></th>\n",
       "      <th>id</th>\n",
       "      <th>estado</th>\n",
       "      <th>estacao</th>\n",
       "      <th>data</th>\n",
       "      <th>precipitacao</th>\n",
       "      <th>temp_max</th>\n",
       "      <th>temp_min</th>\n",
       "      <th>insolacao</th>\n",
       "      <th>evaporacao_piche</th>\n",
       "      <th>temp_comp_med</th>\n",
       "      <th>umidade_rel_med</th>\n",
       "      <th>vel_vento_med</th>\n",
       "      <th>altitude</th>\n",
       "      <th>fires</th>\n",
       "      <th>mes</th>\n",
       "    </tr>\n",
       "  </thead>\n",
       "  <tbody>\n",
       "    <tr>\n",
       "      <th>0</th>\n",
       "      <td>1</td>\n",
       "      <td>AC</td>\n",
       "      <td>50484</td>\n",
       "      <td>2016-01-01</td>\n",
       "      <td>NaN</td>\n",
       "      <td>31.4</td>\n",
       "      <td>NaN</td>\n",
       "      <td>2.3</td>\n",
       "      <td>NaN</td>\n",
       "      <td>NaN</td>\n",
       "      <td>96.0</td>\n",
       "      <td>0.00000</td>\n",
       "      <td>170.0</td>\n",
       "      <td>0</td>\n",
       "      <td>January</td>\n",
       "    </tr>\n",
       "    <tr>\n",
       "      <th>1</th>\n",
       "      <td>2</td>\n",
       "      <td>AC</td>\n",
       "      <td>50484</td>\n",
       "      <td>2016-01-02</td>\n",
       "      <td>0.0</td>\n",
       "      <td>32.5</td>\n",
       "      <td>23.3</td>\n",
       "      <td>4.4</td>\n",
       "      <td>NaN</td>\n",
       "      <td>26.44</td>\n",
       "      <td>95.0</td>\n",
       "      <td>0.51444</td>\n",
       "      <td>170.0</td>\n",
       "      <td>0</td>\n",
       "      <td>January</td>\n",
       "    </tr>\n",
       "    <tr>\n",
       "      <th>2</th>\n",
       "      <td>3</td>\n",
       "      <td>AC</td>\n",
       "      <td>50484</td>\n",
       "      <td>2016-01-03</td>\n",
       "      <td>35.2</td>\n",
       "      <td>30.5</td>\n",
       "      <td>24.0</td>\n",
       "      <td>0.6</td>\n",
       "      <td>NaN</td>\n",
       "      <td>25.78</td>\n",
       "      <td>97.0</td>\n",
       "      <td>0.51444</td>\n",
       "      <td>170.0</td>\n",
       "      <td>0</td>\n",
       "      <td>January</td>\n",
       "    </tr>\n",
       "    <tr>\n",
       "      <th>3</th>\n",
       "      <td>4</td>\n",
       "      <td>AC</td>\n",
       "      <td>50484</td>\n",
       "      <td>2016-01-04</td>\n",
       "      <td>60.2</td>\n",
       "      <td>31.7</td>\n",
       "      <td>22.3</td>\n",
       "      <td>2.0</td>\n",
       "      <td>NaN</td>\n",
       "      <td>25.94</td>\n",
       "      <td>96.0</td>\n",
       "      <td>0.00000</td>\n",
       "      <td>170.0</td>\n",
       "      <td>0</td>\n",
       "      <td>January</td>\n",
       "    </tr>\n",
       "    <tr>\n",
       "      <th>4</th>\n",
       "      <td>5</td>\n",
       "      <td>AC</td>\n",
       "      <td>50484</td>\n",
       "      <td>2016-01-05</td>\n",
       "      <td>28.4</td>\n",
       "      <td>28.5</td>\n",
       "      <td>23.0</td>\n",
       "      <td>0.1</td>\n",
       "      <td>NaN</td>\n",
       "      <td>25.04</td>\n",
       "      <td>95.0</td>\n",
       "      <td>0.00000</td>\n",
       "      <td>170.0</td>\n",
       "      <td>0</td>\n",
       "      <td>January</td>\n",
       "    </tr>\n",
       "  </tbody>\n",
       "</table>\n",
       "</div>"
      ],
      "text/plain": [
       "   id estado  estacao       data  precipitacao  temp_max  temp_min  insolacao  \\\n",
       "0   1     AC    50484 2016-01-01           NaN      31.4       NaN        2.3   \n",
       "1   2     AC    50484 2016-01-02           0.0      32.5      23.3        4.4   \n",
       "2   3     AC    50484 2016-01-03          35.2      30.5      24.0        0.6   \n",
       "3   4     AC    50484 2016-01-04          60.2      31.7      22.3        2.0   \n",
       "4   5     AC    50484 2016-01-05          28.4      28.5      23.0        0.1   \n",
       "\n",
       "   evaporacao_piche  temp_comp_med  umidade_rel_med  vel_vento_med  altitude  \\\n",
       "0               NaN            NaN             96.0        0.00000     170.0   \n",
       "1               NaN          26.44             95.0        0.51444     170.0   \n",
       "2               NaN          25.78             97.0        0.51444     170.0   \n",
       "3               NaN          25.94             96.0        0.00000     170.0   \n",
       "4               NaN          25.04             95.0        0.00000     170.0   \n",
       "\n",
       "   fires      mes  \n",
       "0      0  January  \n",
       "1      0  January  \n",
       "2      0  January  \n",
       "3      0  January  \n",
       "4      0  January  "
      ]
     },
     "execution_count": 250,
     "metadata": {},
     "output_type": "execute_result"
    }
   ],
   "source": [
    "df.head()"
   ]
  },
  {
   "cell_type": "code",
   "execution_count": 251,
   "metadata": {},
   "outputs": [
    {
     "data": {
      "text/plain": [
       "0    188271\n",
       "1     63496\n",
       "Name: fires, dtype: int64"
      ]
     },
     "execution_count": 251,
     "metadata": {},
     "output_type": "execute_result"
    }
   ],
   "source": [
    "df['fires'].value_counts()"
   ]
  },
  {
   "cell_type": "code",
   "execution_count": 252,
   "metadata": {},
   "outputs": [],
   "source": [
    "for c in df.columns:\n",
    "    if df[c].dtype == 'object':\n",
    "        df[c] = df[c].astype('category')\n",
    "        \n",
    "X = df.drop(['id', 'data', 'fires'], axis=1)\n",
    "y = df['fires']"
   ]
  },
  {
   "cell_type": "code",
   "execution_count": 253,
   "metadata": {},
   "outputs": [],
   "source": [
    "X_train, X_test, y_train, y_test = train_test_split(X, y, test_size=0.20, stratify=y)"
   ]
  },
  {
   "cell_type": "markdown",
   "metadata": {},
   "source": [
    "## Otimização"
   ]
  },
  {
   "cell_type": "code",
   "execution_count": 162,
   "metadata": {},
   "outputs": [],
   "source": [
    "space = {\n",
    "    'Learning_Rate': hp.loguniform('Learning_Rate', np.log(0.005), np.log(0.5)),\n",
    "    'Lambda_L1' : hp.loguniform('Lambda_L1', np.log(0.001), np.log(1)),\n",
    "    'Lambda_L2' : hp.loguniform('Lambda_L2', np.log(0.001), np.log(1)),\n",
    "    'Bagging_Fraction' : hp.uniform('Bagging_Fraction', 0.1, 1),\n",
    "    'Feature_Fraction' : hp.uniform('Feature_Fraction', 0.1, 1),\n",
    "    'Min_Data_Leaf' : hp.quniform('Min_Data_Leaf', 1, 200, 1),\n",
    "    'Maximum_Leaves' : hp.quniform('Maximum_Leaves', 2, 50, 1),\n",
    "    'Bagging_Frequence' : hp.quniform('Bagging_Frequence', 1, 10, 1),\n",
    "    'Maximum_Bins' : hp.quniform('Maximum_Bins', 15, 255, 1)\n",
    "}"
   ]
  },
  {
   "cell_type": "code",
   "execution_count": 165,
   "metadata": {},
   "outputs": [],
   "source": [
    "train_set = lgb.Dataset(X_train, label = y_train)\n",
    "def obj(x):\n",
    "    params = {'bagging_freq': int(x['Bagging_Frequence']),  'bagging_fraction': x['Bagging_Fraction'],  \n",
    "        'boost_from_average':'false',  'boost': 'gbdt', 'feature_fraction': x['Feature_Fraction'],  \n",
    "        'learning_rate': x['Learning_Rate'],  'metric': 'binary_error',  'min_data_in_leaf': int(x['Min_Data_Leaf']),     \n",
    "        'num_leaves': int(x['Maximum_Leaves']),  'num_threads': 2,  'tree_learner': 'serial', 'objective': 'binary',  \n",
    "        'reg_alpha': x['Lambda_L1'],  'reg_lambda': x['Lambda_L2'],  \n",
    "        'verbosity': 0,  'max_bin': int(x['Maximum_Bins']), 'min_data' : 1, 'min_data_in_bin':1\n",
    "        }\n",
    "    cv_results = lgb.cv(params, train_set, num_boost_round=1000000, nfold=5, metrics='binary_error', early_stopping_rounds=1000, verbose_eval=5000)\n",
    "    best_score = np.min(cv_results['binary_error-mean'])\n",
    "    return best_score"
   ]
  },
  {
   "cell_type": "code",
   "execution_count": 167,
   "metadata": {
    "scrolled": true
   },
   "outputs": [
    {
     "name": "stdout",
     "output_type": "stream",
     "text": [
      "[5000]\tcv_agg's binary_error: 0.192252 + 0.000697149                                 \n",
      "[10000]\tcv_agg's binary_error: 0.188707 + 0.000744635                                \n",
      "[15000]\tcv_agg's binary_error: 0.186974 + 0.000804888                                \n",
      "[20000]\tcv_agg's binary_error: 0.185787 + 0.00103239                                 \n",
      "[25000]\tcv_agg's binary_error: 0.18474 + 0.000789481                                 \n",
      "[30000]\tcv_agg's binary_error: 0.184214 + 0.000786872                                \n",
      "[5000]\tcv_agg's binary_error: 0.185539 + 0.000758064                                  \n",
      "[10000]\tcv_agg's binary_error: 0.180857 + 0.000962212                             \n",
      "[15000]\tcv_agg's binary_error: 0.178693 + 0.000809076                             \n",
      "[20000]\tcv_agg's binary_error: 0.177426 + 0.000576425                             \n",
      "[5000]\tcv_agg's binary_error: 0.175773 + 0.000743477                                    \n",
      "[5000]\tcv_agg's binary_error: 0.177973 + 0.000726948                                    \n",
      "[10000]\tcv_agg's binary_error: 0.175555 + 0.000406307                                   \n",
      "[15000]\tcv_agg's binary_error: 0.174254 + 0.000455181                                   \n",
      "[5000]\tcv_agg's binary_error: 0.178514 + 0.000830887                                    \n",
      "[5000]\tcv_agg's binary_error: 0.172779 + 0.000882073                                    \n",
      "[10000]\tcv_agg's binary_error: 0.17201 + 0.000848086                                   \n",
      "[5000]\tcv_agg's binary_error: 0.171841 + 0.00106455                                      \n",
      "[5000]\tcv_agg's binary_error: 0.172223 + 0.000713604                                    \n",
      "[5000]\tcv_agg's binary_error: 0.171349 + 0.000610879                                   \n",
      "[5000]\tcv_agg's binary_error: 0.172124 + 0.000593108                                    \n",
      "[5000]\tcv_agg's binary_error: 0.171727 + 0.000866146                                     \n",
      "[5000]\tcv_agg's binary_error: 0.171901 + 0.000718903                                     \n",
      "[5000]\tcv_agg's binary_error: 0.171697 + 0.000752142                                     \n",
      "[5000]\tcv_agg's binary_error: 0.172268 + 0.000926799                                    \n",
      "[5000]\tcv_agg's binary_error: 0.171613 + 0.000709239                                    \n",
      "[5000]\tcv_agg's binary_error: 0.172193 + 0.000892814                                    \n",
      "[5000]\tcv_agg's binary_error: 0.172794 + 0.0007285                                     \n",
      "[5000]\tcv_agg's binary_error: 0.173112 + 0.000682808                                   \n",
      "[5000]\tcv_agg's binary_error: 0.172839 + 0.000664173                                   \n",
      "[5000]\tcv_agg's binary_error: 0.181031 + 0.000781735                                   \n",
      "[5000]\tcv_agg's binary_error: 0.172625 + 0.00102243                                    \n",
      "[5000]\tcv_agg's binary_error: 0.174626 + 0.00062794                                    \n",
      "[10000]\tcv_agg's binary_error: 0.173603 + 0.000652926                                  \n",
      "[5000]\tcv_agg's binary_error: 0.1727 + 0.000899432                                     \n",
      "[5000]\tcv_agg's binary_error: 0.172725 + 0.000706674                                   \n",
      "[5000]\tcv_agg's binary_error: 0.17267 + 0.000933704                                    \n",
      "[5000]\tcv_agg's binary_error: 0.171851 + 0.000845297                                   \n",
      "[5000]\tcv_agg's binary_error: 0.171796 + 0.000900124                                   \n",
      "[5000]\tcv_agg's binary_error: 0.17192 + 0.000660644                                    \n",
      "[5000]\tcv_agg's binary_error: 0.171732 + 0.000798674                                   \n",
      "[5000]\tcv_agg's binary_error: 0.171543 + 0.000665359                                   \n",
      "[5000]\tcv_agg's binary_error: 0.171801 + 0.00083688                                    \n",
      "[5000]\tcv_agg's binary_error: 0.171915 + 0.000702538                                   \n",
      "[5000]\tcv_agg's binary_error: 0.171781 + 0.000618955                                   \n",
      "[5000]\tcv_agg's binary_error: 0.171871 + 0.000998282                                   \n",
      "[5000]\tcv_agg's binary_error: 0.172675 + 0.000870195                                    \n",
      "[5000]\tcv_agg's binary_error: 0.171637 + 0.000649483                                    \n",
      "[5000]\tcv_agg's binary_error: 0.172457 + 0.000916119                                    \n",
      "[5000]\tcv_agg's binary_error: 0.172243 + 0.00105605                                     \n",
      "[5000]\tcv_agg's binary_error: 0.172263 + 0.000992482                                     \n",
      "[5000]\tcv_agg's binary_error: 0.179159 + 0.00028096                                      \n",
      "[10000]\tcv_agg's binary_error: 0.176955 + 0.000571939                                  \n",
      "[5000]\tcv_agg's binary_error: 0.172625 + 0.00114317                                    \n",
      "[5000]\tcv_agg's binary_error: 0.176255 + 0.000685686                                   \n",
      "[10000]\tcv_agg's binary_error: 0.174174 + 0.00110174                                   \n",
      "[15000]\tcv_agg's binary_error: 0.173221 + 0.00098689                                   \n",
      "[5000]\tcv_agg's binary_error: 0.172804 + 0.000997562                                   \n",
      "100%|██████████| 100/100 [11:38:16<00:00, 367.79s/trial, best loss: 0.17113591494889216]\n"
     ]
    }
   ],
   "source": [
    "best = fmin(fn=obj, space=space, algo=tpe.suggest, max_evals=100)"
   ]
  },
  {
   "cell_type": "code",
   "execution_count": 168,
   "metadata": {},
   "outputs": [
    {
     "data": {
      "text/plain": [
       "{'Bagging_Fraction': 0.8360017521127768,\n",
       " 'Bagging_Frequence': 6.0,\n",
       " 'Feature_Fraction': 0.7697152656464976,\n",
       " 'Lambda_L1': 0.10039162642626634,\n",
       " 'Lambda_L2': 0.10270041356582635,\n",
       " 'Learning_Rate': 0.0051953511991254565,\n",
       " 'Maximum_Bins': 158.0,\n",
       " 'Maximum_Leaves': 50.0,\n",
       " 'Min_Data_Leaf': 51.0}"
      ]
     },
     "execution_count": 168,
     "metadata": {},
     "output_type": "execute_result"
    }
   ],
   "source": [
    "best"
   ]
  },
  {
   "cell_type": "markdown",
   "metadata": {},
   "source": [
    "## Validação"
   ]
  },
  {
   "cell_type": "code",
   "execution_count": 227,
   "metadata": {},
   "outputs": [],
   "source": [
    "params = {\n",
    "    'bagging_freq': int(best['Bagging_Frequence']),  'bagging_fraction': best['Bagging_Fraction'],  \n",
    "    'boost_from_average':'false',  'boost': 'gbdt', 'feature_fraction': best['Feature_Fraction'],  \n",
    "    'learning_rate': best['Learning_Rate'],  'metric':'binary_error',  'min_data_in_leaf': int(best['Min_Data_Leaf']),     \n",
    "    'num_leaves': int(best['Maximum_Leaves']),  'num_threads': 2,  'tree_learner': 'serial', 'objective': 'binary',  \n",
    "    'reg_alpha': best['Lambda_L1'],  'reg_lambda': best['Lambda_L2'],  \n",
    "    'verbosity': 1,  'max_bin': int(best['Maximum_Bins']), 'min_data' : 1, 'min_data_in_bin':1\n",
    "        \n",
    "}"
   ]
  },
  {
   "cell_type": "code",
   "execution_count": 254,
   "metadata": {},
   "outputs": [],
   "source": [
    "skf = StratifiedKFold(5, shuffle=True)\n",
    "oof = np.zeros(len(X_train))"
   ]
  },
  {
   "cell_type": "code",
   "execution_count": 255,
   "metadata": {},
   "outputs": [
    {
     "name": "stdout",
     "output_type": "stream",
     "text": [
      "Training until validation scores don't improve for 1000 rounds\n",
      "Early stopping, best iteration is:\n",
      "[3875]\ttraining's binary_error: 0.156837\tvalid_1's binary_error: 0.174585\n",
      "Training until validation scores don't improve for 1000 rounds\n",
      "[5000]\ttraining's binary_error: 0.153156\tvalid_1's binary_error: 0.173448\n",
      "Early stopping, best iteration is:\n",
      "[6041]\ttraining's binary_error: 0.149047\tvalid_1's binary_error: 0.172703\n",
      "Training until validation scores don't improve for 1000 rounds\n",
      "[5000]\ttraining's binary_error: 0.15277\tvalid_1's binary_error: 0.1702\n",
      "Early stopping, best iteration is:\n",
      "[6245]\ttraining's binary_error: 0.148389\tvalid_1's binary_error: 0.169704\n",
      "Training until validation scores don't improve for 1000 rounds\n",
      "[5000]\ttraining's binary_error: 0.153713\tvalid_1's binary_error: 0.170299\n",
      "Early stopping, best iteration is:\n",
      "[5273]\ttraining's binary_error: 0.152578\tvalid_1's binary_error: 0.169977\n",
      "Training until validation scores don't improve for 1000 rounds\n",
      "Early stopping, best iteration is:\n",
      "[3649]\ttraining's binary_error: 0.158461\tvalid_1's binary_error: 0.170821\n"
     ]
    }
   ],
   "source": [
    "for train_idx, val_idx in skf.split(X_train.values, y_train.values):\n",
    "    train_data = lgb.Dataset(X_train.iloc[train_idx], y_train.iloc[train_idx])\n",
    "    val_data = lgb.Dataset(X_train.iloc[val_idx], y_train.iloc[val_idx])\n",
    "    lgbm = lgb.train(params, train_data, 10000, [train_data, val_data], early_stopping_rounds=1000, verbose_eval=5000)\n",
    "    oof[val_idx] = lgbm.predict(X_train.iloc[val_idx], num_iteration = lgbm.best_iteration)"
   ]
  },
  {
   "cell_type": "code",
   "execution_count": 256,
   "metadata": {},
   "outputs": [
    {
     "name": "stdout",
     "output_type": "stream",
     "text": [
      "0.8677779567178748\n"
     ]
    }
   ],
   "source": [
    "print(roc_auc_score(y_train, oof))"
   ]
  },
  {
   "cell_type": "code",
   "execution_count": 257,
   "metadata": {},
   "outputs": [],
   "source": [
    "preds = [int(i>0.5) for i in oof]"
   ]
  },
  {
   "cell_type": "code",
   "execution_count": 258,
   "metadata": {},
   "outputs": [
    {
     "name": "stdout",
     "output_type": "stream",
     "text": [
      "              precision    recall  f1-score   support\n",
      "\n",
      "           0       0.85      0.93      0.89    150616\n",
      "           1       0.71      0.53      0.61     50797\n",
      "\n",
      "   micro avg       0.83      0.83      0.83    201413\n",
      "   macro avg       0.78      0.73      0.75    201413\n",
      "weighted avg       0.82      0.83      0.82    201413\n",
      "\n"
     ]
    }
   ],
   "source": [
    "print(classification_report(y_train, preds))"
   ]
  },
  {
   "cell_type": "code",
   "execution_count": 259,
   "metadata": {},
   "outputs": [
    {
     "name": "stdout",
     "output_type": "stream",
     "text": [
      "[[139795  10821]\n",
      " [ 23733  27064]]\n"
     ]
    }
   ],
   "source": [
    "print(confusion_matrix(y_train, preds))"
   ]
  },
  {
   "cell_type": "code",
   "execution_count": 270,
   "metadata": {},
   "outputs": [
    {
     "name": "stdout",
     "output_type": "stream",
     "text": [
      "0.828442056868226\n"
     ]
    }
   ],
   "source": [
    "print(accuracy_score(y_train, preds))"
   ]
  },
  {
   "cell_type": "markdown",
   "metadata": {},
   "source": [
    "## Teste"
   ]
  },
  {
   "cell_type": "code",
   "execution_count": 261,
   "metadata": {},
   "outputs": [],
   "source": [
    "train_data = lgb.Dataset(X_train, y_train)\n",
    "lgbm = lgb.train(params, train_data, 10000)"
   ]
  },
  {
   "cell_type": "code",
   "execution_count": 266,
   "metadata": {},
   "outputs": [],
   "source": [
    "preds_prob_teste = lgbm.predict(X_test)"
   ]
  },
  {
   "cell_type": "code",
   "execution_count": 267,
   "metadata": {},
   "outputs": [],
   "source": [
    "preds2 = [int(i>0.5) for i in preds_prob_teste]"
   ]
  },
  {
   "cell_type": "code",
   "execution_count": 268,
   "metadata": {},
   "outputs": [
    {
     "name": "stdout",
     "output_type": "stream",
     "text": [
      "              precision    recall  f1-score   support\n",
      "\n",
      "           0       0.86      0.93      0.89     37655\n",
      "           1       0.71      0.54      0.61     12699\n",
      "\n",
      "   micro avg       0.83      0.83      0.83     50354\n",
      "   macro avg       0.79      0.73      0.75     50354\n",
      "weighted avg       0.82      0.83      0.82     50354\n",
      "\n"
     ]
    }
   ],
   "source": [
    "print(classification_report(y_test, preds2))"
   ]
  },
  {
   "cell_type": "code",
   "execution_count": 269,
   "metadata": {},
   "outputs": [
    {
     "name": "stdout",
     "output_type": "stream",
     "text": [
      "0.8293283552448664\n"
     ]
    }
   ],
   "source": [
    "print(accuracy_score(y_test, preds2))"
   ]
  },
  {
   "cell_type": "markdown",
   "metadata": {},
   "source": [
    "## Treino dataset inteiro"
   ]
  },
  {
   "cell_type": "code",
   "execution_count": 187,
   "metadata": {},
   "outputs": [],
   "source": [
    "train_data = lgb.Dataset(X, y)\n",
    "lgbm = lgb.train(params, train_data, 10000)"
   ]
  },
  {
   "cell_type": "markdown",
   "metadata": {},
   "source": [
    "## Respostas"
   ]
  },
  {
   "cell_type": "code",
   "execution_count": 229,
   "metadata": {},
   "outputs": [],
   "source": [
    "respostas = pd.read_csv('respostas.csv')"
   ]
  },
  {
   "cell_type": "code",
   "execution_count": 230,
   "metadata": {},
   "outputs": [
    {
     "data": {
      "text/html": [
       "<div>\n",
       "<style scoped>\n",
       "    .dataframe tbody tr th:only-of-type {\n",
       "        vertical-align: middle;\n",
       "    }\n",
       "\n",
       "    .dataframe tbody tr th {\n",
       "        vertical-align: top;\n",
       "    }\n",
       "\n",
       "    .dataframe thead th {\n",
       "        text-align: right;\n",
       "    }\n",
       "</style>\n",
       "<table border=\"1\" class=\"dataframe\">\n",
       "  <thead>\n",
       "    <tr style=\"text-align: right;\">\n",
       "      <th></th>\n",
       "      <th>id</th>\n",
       "      <th>estado</th>\n",
       "      <th>estacao</th>\n",
       "      <th>data</th>\n",
       "      <th>precipitacao</th>\n",
       "      <th>temp_max</th>\n",
       "      <th>temp_min</th>\n",
       "      <th>insolacao</th>\n",
       "      <th>evaporacao_piche</th>\n",
       "      <th>temp_comp_med</th>\n",
       "      <th>umidade_rel_med</th>\n",
       "      <th>vel_vento_med</th>\n",
       "      <th>altitude</th>\n",
       "    </tr>\n",
       "  </thead>\n",
       "  <tbody>\n",
       "    <tr>\n",
       "      <th>0</th>\n",
       "      <td>251768</td>\n",
       "      <td>AC</td>\n",
       "      <td>50484</td>\n",
       "      <td>27/01/2016</td>\n",
       "      <td>5.8</td>\n",
       "      <td>34.7</td>\n",
       "      <td>23.7</td>\n",
       "      <td>8.8</td>\n",
       "      <td>NaN</td>\n",
       "      <td>27.84</td>\n",
       "      <td>92.00</td>\n",
       "      <td>1.028880</td>\n",
       "      <td>170.0</td>\n",
       "    </tr>\n",
       "    <tr>\n",
       "      <th>1</th>\n",
       "      <td>251769</td>\n",
       "      <td>AC</td>\n",
       "      <td>50484</td>\n",
       "      <td>28/01/2016</td>\n",
       "      <td>0.0</td>\n",
       "      <td>30.0</td>\n",
       "      <td>23.7</td>\n",
       "      <td>0.2</td>\n",
       "      <td>NaN</td>\n",
       "      <td>26.60</td>\n",
       "      <td>93.00</td>\n",
       "      <td>0.000000</td>\n",
       "      <td>170.0</td>\n",
       "    </tr>\n",
       "    <tr>\n",
       "      <th>2</th>\n",
       "      <td>251770</td>\n",
       "      <td>AC</td>\n",
       "      <td>50484</td>\n",
       "      <td>29/01/2016</td>\n",
       "      <td>0.0</td>\n",
       "      <td>35.5</td>\n",
       "      <td>24.1</td>\n",
       "      <td>7.1</td>\n",
       "      <td>NaN</td>\n",
       "      <td>27.78</td>\n",
       "      <td>97.00</td>\n",
       "      <td>0.000000</td>\n",
       "      <td>170.0</td>\n",
       "    </tr>\n",
       "    <tr>\n",
       "      <th>3</th>\n",
       "      <td>251771</td>\n",
       "      <td>AC</td>\n",
       "      <td>50484</td>\n",
       "      <td>05/08/2016</td>\n",
       "      <td>NaN</td>\n",
       "      <td>NaN</td>\n",
       "      <td>NaN</td>\n",
       "      <td>NaN</td>\n",
       "      <td>NaN</td>\n",
       "      <td>NaN</td>\n",
       "      <td>NaN</td>\n",
       "      <td>0.000000</td>\n",
       "      <td>170.0</td>\n",
       "    </tr>\n",
       "    <tr>\n",
       "      <th>4</th>\n",
       "      <td>251772</td>\n",
       "      <td>AC</td>\n",
       "      <td>88948</td>\n",
       "      <td>28/05/2019</td>\n",
       "      <td>0.0</td>\n",
       "      <td>34.7</td>\n",
       "      <td>21.6</td>\n",
       "      <td>8.3</td>\n",
       "      <td>2.0</td>\n",
       "      <td>26.56</td>\n",
       "      <td>86.75</td>\n",
       "      <td>0.666667</td>\n",
       "      <td>160.0</td>\n",
       "    </tr>\n",
       "  </tbody>\n",
       "</table>\n",
       "</div>"
      ],
      "text/plain": [
       "       id estado  estacao        data  precipitacao  temp_max  temp_min  \\\n",
       "0  251768     AC    50484  27/01/2016           5.8      34.7      23.7   \n",
       "1  251769     AC    50484  28/01/2016           0.0      30.0      23.7   \n",
       "2  251770     AC    50484  29/01/2016           0.0      35.5      24.1   \n",
       "3  251771     AC    50484  05/08/2016           NaN       NaN       NaN   \n",
       "4  251772     AC    88948  28/05/2019           0.0      34.7      21.6   \n",
       "\n",
       "   insolacao  evaporacao_piche  temp_comp_med  umidade_rel_med  vel_vento_med  \\\n",
       "0        8.8               NaN          27.84            92.00       1.028880   \n",
       "1        0.2               NaN          26.60            93.00       0.000000   \n",
       "2        7.1               NaN          27.78            97.00       0.000000   \n",
       "3        NaN               NaN            NaN              NaN       0.000000   \n",
       "4        8.3               2.0          26.56            86.75       0.666667   \n",
       "\n",
       "   altitude  \n",
       "0     170.0  \n",
       "1     170.0  \n",
       "2     170.0  \n",
       "3     170.0  \n",
       "4     160.0  "
      ]
     },
     "execution_count": 230,
     "metadata": {},
     "output_type": "execute_result"
    }
   ],
   "source": [
    "respostas.head()"
   ]
  },
  {
   "cell_type": "code",
   "execution_count": 231,
   "metadata": {},
   "outputs": [],
   "source": [
    "respostas['data'] = pd.to_datetime(respostas['data'], format='%d/%m/%Y')\n",
    "respostas['mes'] = respostas['data'].apply(lambda x: x.month_name())"
   ]
  },
  {
   "cell_type": "code",
   "execution_count": 232,
   "metadata": {},
   "outputs": [],
   "source": [
    "respostas['estado'] = respostas['estado'].astype('category')\n",
    "respostas['mes'] = respostas['mes'].astype('category')\n",
    "features = respostas.drop(['id', 'data'], axis=1)"
   ]
  },
  {
   "cell_type": "code",
   "execution_count": 233,
   "metadata": {},
   "outputs": [
    {
     "data": {
      "text/html": [
       "<div>\n",
       "<style scoped>\n",
       "    .dataframe tbody tr th:only-of-type {\n",
       "        vertical-align: middle;\n",
       "    }\n",
       "\n",
       "    .dataframe tbody tr th {\n",
       "        vertical-align: top;\n",
       "    }\n",
       "\n",
       "    .dataframe thead th {\n",
       "        text-align: right;\n",
       "    }\n",
       "</style>\n",
       "<table border=\"1\" class=\"dataframe\">\n",
       "  <thead>\n",
       "    <tr style=\"text-align: right;\">\n",
       "      <th></th>\n",
       "      <th>estado</th>\n",
       "      <th>estacao</th>\n",
       "      <th>precipitacao</th>\n",
       "      <th>temp_max</th>\n",
       "      <th>temp_min</th>\n",
       "      <th>insolacao</th>\n",
       "      <th>evaporacao_piche</th>\n",
       "      <th>temp_comp_med</th>\n",
       "      <th>umidade_rel_med</th>\n",
       "      <th>vel_vento_med</th>\n",
       "      <th>altitude</th>\n",
       "      <th>mes</th>\n",
       "    </tr>\n",
       "  </thead>\n",
       "  <tbody>\n",
       "    <tr>\n",
       "      <th>0</th>\n",
       "      <td>AC</td>\n",
       "      <td>50484</td>\n",
       "      <td>5.8</td>\n",
       "      <td>34.7</td>\n",
       "      <td>23.7</td>\n",
       "      <td>8.8</td>\n",
       "      <td>NaN</td>\n",
       "      <td>27.84</td>\n",
       "      <td>92.00</td>\n",
       "      <td>1.028880</td>\n",
       "      <td>170.0</td>\n",
       "      <td>January</td>\n",
       "    </tr>\n",
       "    <tr>\n",
       "      <th>1</th>\n",
       "      <td>AC</td>\n",
       "      <td>50484</td>\n",
       "      <td>0.0</td>\n",
       "      <td>30.0</td>\n",
       "      <td>23.7</td>\n",
       "      <td>0.2</td>\n",
       "      <td>NaN</td>\n",
       "      <td>26.60</td>\n",
       "      <td>93.00</td>\n",
       "      <td>0.000000</td>\n",
       "      <td>170.0</td>\n",
       "      <td>January</td>\n",
       "    </tr>\n",
       "    <tr>\n",
       "      <th>2</th>\n",
       "      <td>AC</td>\n",
       "      <td>50484</td>\n",
       "      <td>0.0</td>\n",
       "      <td>35.5</td>\n",
       "      <td>24.1</td>\n",
       "      <td>7.1</td>\n",
       "      <td>NaN</td>\n",
       "      <td>27.78</td>\n",
       "      <td>97.00</td>\n",
       "      <td>0.000000</td>\n",
       "      <td>170.0</td>\n",
       "      <td>January</td>\n",
       "    </tr>\n",
       "    <tr>\n",
       "      <th>3</th>\n",
       "      <td>AC</td>\n",
       "      <td>50484</td>\n",
       "      <td>NaN</td>\n",
       "      <td>NaN</td>\n",
       "      <td>NaN</td>\n",
       "      <td>NaN</td>\n",
       "      <td>NaN</td>\n",
       "      <td>NaN</td>\n",
       "      <td>NaN</td>\n",
       "      <td>0.000000</td>\n",
       "      <td>170.0</td>\n",
       "      <td>August</td>\n",
       "    </tr>\n",
       "    <tr>\n",
       "      <th>4</th>\n",
       "      <td>AC</td>\n",
       "      <td>88948</td>\n",
       "      <td>0.0</td>\n",
       "      <td>34.7</td>\n",
       "      <td>21.6</td>\n",
       "      <td>8.3</td>\n",
       "      <td>2.0</td>\n",
       "      <td>26.56</td>\n",
       "      <td>86.75</td>\n",
       "      <td>0.666667</td>\n",
       "      <td>160.0</td>\n",
       "      <td>May</td>\n",
       "    </tr>\n",
       "  </tbody>\n",
       "</table>\n",
       "</div>"
      ],
      "text/plain": [
       "  estado  estacao  precipitacao  temp_max  temp_min  insolacao  \\\n",
       "0     AC    50484           5.8      34.7      23.7        8.8   \n",
       "1     AC    50484           0.0      30.0      23.7        0.2   \n",
       "2     AC    50484           0.0      35.5      24.1        7.1   \n",
       "3     AC    50484           NaN       NaN       NaN        NaN   \n",
       "4     AC    88948           0.0      34.7      21.6        8.3   \n",
       "\n",
       "   evaporacao_piche  temp_comp_med  umidade_rel_med  vel_vento_med  altitude  \\\n",
       "0               NaN          27.84            92.00       1.028880     170.0   \n",
       "1               NaN          26.60            93.00       0.000000     170.0   \n",
       "2               NaN          27.78            97.00       0.000000     170.0   \n",
       "3               NaN            NaN              NaN       0.000000     170.0   \n",
       "4               2.0          26.56            86.75       0.666667     160.0   \n",
       "\n",
       "       mes  \n",
       "0  January  \n",
       "1  January  \n",
       "2  January  \n",
       "3   August  \n",
       "4      May  "
      ]
     },
     "execution_count": 233,
     "metadata": {},
     "output_type": "execute_result"
    }
   ],
   "source": [
    "features.head()"
   ]
  },
  {
   "cell_type": "code",
   "execution_count": 271,
   "metadata": {},
   "outputs": [],
   "source": [
    "preds_sub = lgbm.predict(features)"
   ]
  },
  {
   "cell_type": "code",
   "execution_count": 242,
   "metadata": {},
   "outputs": [],
   "source": [
    "preds_subB = [int(i>0.5) for i in preds_sub]"
   ]
  },
  {
   "cell_type": "code",
   "execution_count": 243,
   "metadata": {},
   "outputs": [],
   "source": [
    "respostas['fires'] = preds_subB\n",
    "respostas[['id', 'fires']].to_csv('lightgbm2.csv', index=False)"
   ]
  }
 ],
 "metadata": {
  "kernelspec": {
   "display_name": "Python 3",
   "language": "python",
   "name": "python3"
  },
  "language_info": {
   "codemirror_mode": {
    "name": "ipython",
    "version": 3
   },
   "file_extension": ".py",
   "mimetype": "text/x-python",
   "name": "python",
   "nbconvert_exporter": "python",
   "pygments_lexer": "ipython3",
   "version": "3.7.3"
  }
 },
 "nbformat": 4,
 "nbformat_minor": 2
}
