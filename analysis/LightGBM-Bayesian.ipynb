{
 "cells": [
  {
   "cell_type": "code",
   "execution_count": 1,
   "metadata": {},
   "outputs": [],
   "source": [
    "import numpy as np\n",
    "import pandas as pd\n",
    "import matplotlib.pyplot as plt\n",
    "import seaborn as sns\n",
    "import lightgbm as lgb\n",
    "from sklearn.model_selection import StratifiedKFold\n",
    "from sklearn.metrics import roc_auc_score\n",
    "from sklearn.metrics import classification_report\n",
    "from sklearn.metrics import confusion_matrix\n",
    "from hyperopt import fmin, tpe, hp\n",
    "from sklearn.metrics import accuracy_score\n",
    "from sklearn.model_selection import train_test_split \n",
    "\n",
    "%matplotlib inline"
   ]
  },
  {
   "cell_type": "code",
   "execution_count": 2,
   "metadata": {},
   "outputs": [],
   "source": [
    "df = pd.read_csv('database_fires.csv')"
   ]
  },
  {
   "cell_type": "code",
   "execution_count": 3,
   "metadata": {},
   "outputs": [
    {
     "data": {
      "text/html": [
       "<div>\n",
       "<style scoped>\n",
       "    .dataframe tbody tr th:only-of-type {\n",
       "        vertical-align: middle;\n",
       "    }\n",
       "\n",
       "    .dataframe tbody tr th {\n",
       "        vertical-align: top;\n",
       "    }\n",
       "\n",
       "    .dataframe thead th {\n",
       "        text-align: right;\n",
       "    }\n",
       "</style>\n",
       "<table border=\"1\" class=\"dataframe\">\n",
       "  <thead>\n",
       "    <tr style=\"text-align: right;\">\n",
       "      <th></th>\n",
       "      <th>id</th>\n",
       "      <th>estado</th>\n",
       "      <th>estacao</th>\n",
       "      <th>data</th>\n",
       "      <th>precipitacao</th>\n",
       "      <th>temp_max</th>\n",
       "      <th>temp_min</th>\n",
       "      <th>insolacao</th>\n",
       "      <th>evaporacao_piche</th>\n",
       "      <th>temp_comp_med</th>\n",
       "      <th>umidade_rel_med</th>\n",
       "      <th>vel_vento_med</th>\n",
       "      <th>altitude</th>\n",
       "      <th>fires</th>\n",
       "    </tr>\n",
       "  </thead>\n",
       "  <tbody>\n",
       "    <tr>\n",
       "      <th>0</th>\n",
       "      <td>1</td>\n",
       "      <td>AC</td>\n",
       "      <td>50484</td>\n",
       "      <td>01/01/2016</td>\n",
       "      <td>NaN</td>\n",
       "      <td>31.4</td>\n",
       "      <td>NaN</td>\n",
       "      <td>2.3</td>\n",
       "      <td>NaN</td>\n",
       "      <td>NaN</td>\n",
       "      <td>96.0</td>\n",
       "      <td>0.00000</td>\n",
       "      <td>170.0</td>\n",
       "      <td>0</td>\n",
       "    </tr>\n",
       "    <tr>\n",
       "      <th>1</th>\n",
       "      <td>2</td>\n",
       "      <td>AC</td>\n",
       "      <td>50484</td>\n",
       "      <td>02/01/2016</td>\n",
       "      <td>0.0</td>\n",
       "      <td>32.5</td>\n",
       "      <td>23.3</td>\n",
       "      <td>4.4</td>\n",
       "      <td>NaN</td>\n",
       "      <td>26.44</td>\n",
       "      <td>95.0</td>\n",
       "      <td>0.51444</td>\n",
       "      <td>170.0</td>\n",
       "      <td>0</td>\n",
       "    </tr>\n",
       "    <tr>\n",
       "      <th>2</th>\n",
       "      <td>3</td>\n",
       "      <td>AC</td>\n",
       "      <td>50484</td>\n",
       "      <td>03/01/2016</td>\n",
       "      <td>35.2</td>\n",
       "      <td>30.5</td>\n",
       "      <td>24.0</td>\n",
       "      <td>0.6</td>\n",
       "      <td>NaN</td>\n",
       "      <td>25.78</td>\n",
       "      <td>97.0</td>\n",
       "      <td>0.51444</td>\n",
       "      <td>170.0</td>\n",
       "      <td>0</td>\n",
       "    </tr>\n",
       "    <tr>\n",
       "      <th>3</th>\n",
       "      <td>4</td>\n",
       "      <td>AC</td>\n",
       "      <td>50484</td>\n",
       "      <td>04/01/2016</td>\n",
       "      <td>60.2</td>\n",
       "      <td>31.7</td>\n",
       "      <td>22.3</td>\n",
       "      <td>2.0</td>\n",
       "      <td>NaN</td>\n",
       "      <td>25.94</td>\n",
       "      <td>96.0</td>\n",
       "      <td>0.00000</td>\n",
       "      <td>170.0</td>\n",
       "      <td>0</td>\n",
       "    </tr>\n",
       "    <tr>\n",
       "      <th>4</th>\n",
       "      <td>5</td>\n",
       "      <td>AC</td>\n",
       "      <td>50484</td>\n",
       "      <td>05/01/2016</td>\n",
       "      <td>28.4</td>\n",
       "      <td>28.5</td>\n",
       "      <td>23.0</td>\n",
       "      <td>0.1</td>\n",
       "      <td>NaN</td>\n",
       "      <td>25.04</td>\n",
       "      <td>95.0</td>\n",
       "      <td>0.00000</td>\n",
       "      <td>170.0</td>\n",
       "      <td>0</td>\n",
       "    </tr>\n",
       "  </tbody>\n",
       "</table>\n",
       "</div>"
      ],
      "text/plain": [
       "   id estado  estacao        data  precipitacao  temp_max  temp_min  \\\n",
       "0   1     AC    50484  01/01/2016           NaN      31.4       NaN   \n",
       "1   2     AC    50484  02/01/2016           0.0      32.5      23.3   \n",
       "2   3     AC    50484  03/01/2016          35.2      30.5      24.0   \n",
       "3   4     AC    50484  04/01/2016          60.2      31.7      22.3   \n",
       "4   5     AC    50484  05/01/2016          28.4      28.5      23.0   \n",
       "\n",
       "   insolacao  evaporacao_piche  temp_comp_med  umidade_rel_med  vel_vento_med  \\\n",
       "0        2.3               NaN            NaN             96.0        0.00000   \n",
       "1        4.4               NaN          26.44             95.0        0.51444   \n",
       "2        0.6               NaN          25.78             97.0        0.51444   \n",
       "3        2.0               NaN          25.94             96.0        0.00000   \n",
       "4        0.1               NaN          25.04             95.0        0.00000   \n",
       "\n",
       "   altitude  fires  \n",
       "0     170.0      0  \n",
       "1     170.0      0  \n",
       "2     170.0      0  \n",
       "3     170.0      0  \n",
       "4     170.0      0  "
      ]
     },
     "execution_count": 3,
     "metadata": {},
     "output_type": "execute_result"
    }
   ],
   "source": [
    "df.head()"
   ]
  },
  {
   "cell_type": "code",
   "execution_count": 4,
   "metadata": {},
   "outputs": [
    {
     "name": "stdout",
     "output_type": "stream",
     "text": [
      "<class 'pandas.core.frame.DataFrame'>\n",
      "RangeIndex: 251767 entries, 0 to 251766\n",
      "Data columns (total 14 columns):\n",
      "id                  251767 non-null int64\n",
      "estado              251767 non-null object\n",
      "estacao             251767 non-null int64\n",
      "data                251767 non-null object\n",
      "precipitacao        250360 non-null float64\n",
      "temp_max            224873 non-null float64\n",
      "temp_min            240179 non-null float64\n",
      "insolacao           211218 non-null float64\n",
      "evaporacao_piche    178196 non-null float64\n",
      "temp_comp_med       209929 non-null float64\n",
      "umidade_rel_med     218944 non-null float64\n",
      "vel_vento_med       208457 non-null float64\n",
      "altitude            251767 non-null float64\n",
      "fires               251767 non-null int64\n",
      "dtypes: float64(9), int64(3), object(2)\n",
      "memory usage: 26.9+ MB\n"
     ]
    }
   ],
   "source": [
    "df.info()"
   ]
  },
  {
   "cell_type": "code",
   "execution_count": 5,
   "metadata": {},
   "outputs": [
    {
     "data": {
      "text/plain": [
       "239"
      ]
     },
     "execution_count": 5,
     "metadata": {},
     "output_type": "execute_result"
    }
   ],
   "source": [
    "df['estacao'].nunique()"
   ]
  },
  {
   "cell_type": "code",
   "execution_count": 6,
   "metadata": {},
   "outputs": [],
   "source": [
    "df['data'] = pd.to_datetime(df['data'], format='%d/%m/%Y')\n",
    "df['mes'] = df['data'].apply(lambda x: x.month_name())"
   ]
  },
  {
   "cell_type": "code",
   "execution_count": 7,
   "metadata": {},
   "outputs": [
    {
     "data": {
      "text/html": [
       "<div>\n",
       "<style scoped>\n",
       "    .dataframe tbody tr th:only-of-type {\n",
       "        vertical-align: middle;\n",
       "    }\n",
       "\n",
       "    .dataframe tbody tr th {\n",
       "        vertical-align: top;\n",
       "    }\n",
       "\n",
       "    .dataframe thead th {\n",
       "        text-align: right;\n",
       "    }\n",
       "</style>\n",
       "<table border=\"1\" class=\"dataframe\">\n",
       "  <thead>\n",
       "    <tr style=\"text-align: right;\">\n",
       "      <th></th>\n",
       "      <th>id</th>\n",
       "      <th>estado</th>\n",
       "      <th>estacao</th>\n",
       "      <th>data</th>\n",
       "      <th>precipitacao</th>\n",
       "      <th>temp_max</th>\n",
       "      <th>temp_min</th>\n",
       "      <th>insolacao</th>\n",
       "      <th>evaporacao_piche</th>\n",
       "      <th>temp_comp_med</th>\n",
       "      <th>umidade_rel_med</th>\n",
       "      <th>vel_vento_med</th>\n",
       "      <th>altitude</th>\n",
       "      <th>fires</th>\n",
       "      <th>mes</th>\n",
       "    </tr>\n",
       "  </thead>\n",
       "  <tbody>\n",
       "    <tr>\n",
       "      <th>0</th>\n",
       "      <td>1</td>\n",
       "      <td>AC</td>\n",
       "      <td>50484</td>\n",
       "      <td>2016-01-01</td>\n",
       "      <td>NaN</td>\n",
       "      <td>31.4</td>\n",
       "      <td>NaN</td>\n",
       "      <td>2.3</td>\n",
       "      <td>NaN</td>\n",
       "      <td>NaN</td>\n",
       "      <td>96.0</td>\n",
       "      <td>0.00000</td>\n",
       "      <td>170.0</td>\n",
       "      <td>0</td>\n",
       "      <td>January</td>\n",
       "    </tr>\n",
       "    <tr>\n",
       "      <th>1</th>\n",
       "      <td>2</td>\n",
       "      <td>AC</td>\n",
       "      <td>50484</td>\n",
       "      <td>2016-01-02</td>\n",
       "      <td>0.0</td>\n",
       "      <td>32.5</td>\n",
       "      <td>23.3</td>\n",
       "      <td>4.4</td>\n",
       "      <td>NaN</td>\n",
       "      <td>26.44</td>\n",
       "      <td>95.0</td>\n",
       "      <td>0.51444</td>\n",
       "      <td>170.0</td>\n",
       "      <td>0</td>\n",
       "      <td>January</td>\n",
       "    </tr>\n",
       "    <tr>\n",
       "      <th>2</th>\n",
       "      <td>3</td>\n",
       "      <td>AC</td>\n",
       "      <td>50484</td>\n",
       "      <td>2016-01-03</td>\n",
       "      <td>35.2</td>\n",
       "      <td>30.5</td>\n",
       "      <td>24.0</td>\n",
       "      <td>0.6</td>\n",
       "      <td>NaN</td>\n",
       "      <td>25.78</td>\n",
       "      <td>97.0</td>\n",
       "      <td>0.51444</td>\n",
       "      <td>170.0</td>\n",
       "      <td>0</td>\n",
       "      <td>January</td>\n",
       "    </tr>\n",
       "    <tr>\n",
       "      <th>3</th>\n",
       "      <td>4</td>\n",
       "      <td>AC</td>\n",
       "      <td>50484</td>\n",
       "      <td>2016-01-04</td>\n",
       "      <td>60.2</td>\n",
       "      <td>31.7</td>\n",
       "      <td>22.3</td>\n",
       "      <td>2.0</td>\n",
       "      <td>NaN</td>\n",
       "      <td>25.94</td>\n",
       "      <td>96.0</td>\n",
       "      <td>0.00000</td>\n",
       "      <td>170.0</td>\n",
       "      <td>0</td>\n",
       "      <td>January</td>\n",
       "    </tr>\n",
       "    <tr>\n",
       "      <th>4</th>\n",
       "      <td>5</td>\n",
       "      <td>AC</td>\n",
       "      <td>50484</td>\n",
       "      <td>2016-01-05</td>\n",
       "      <td>28.4</td>\n",
       "      <td>28.5</td>\n",
       "      <td>23.0</td>\n",
       "      <td>0.1</td>\n",
       "      <td>NaN</td>\n",
       "      <td>25.04</td>\n",
       "      <td>95.0</td>\n",
       "      <td>0.00000</td>\n",
       "      <td>170.0</td>\n",
       "      <td>0</td>\n",
       "      <td>January</td>\n",
       "    </tr>\n",
       "  </tbody>\n",
       "</table>\n",
       "</div>"
      ],
      "text/plain": [
       "   id estado  estacao       data  precipitacao  temp_max  temp_min  insolacao  \\\n",
       "0   1     AC    50484 2016-01-01           NaN      31.4       NaN        2.3   \n",
       "1   2     AC    50484 2016-01-02           0.0      32.5      23.3        4.4   \n",
       "2   3     AC    50484 2016-01-03          35.2      30.5      24.0        0.6   \n",
       "3   4     AC    50484 2016-01-04          60.2      31.7      22.3        2.0   \n",
       "4   5     AC    50484 2016-01-05          28.4      28.5      23.0        0.1   \n",
       "\n",
       "   evaporacao_piche  temp_comp_med  umidade_rel_med  vel_vento_med  altitude  \\\n",
       "0               NaN            NaN             96.0        0.00000     170.0   \n",
       "1               NaN          26.44             95.0        0.51444     170.0   \n",
       "2               NaN          25.78             97.0        0.51444     170.0   \n",
       "3               NaN          25.94             96.0        0.00000     170.0   \n",
       "4               NaN          25.04             95.0        0.00000     170.0   \n",
       "\n",
       "   fires      mes  \n",
       "0      0  January  \n",
       "1      0  January  \n",
       "2      0  January  \n",
       "3      0  January  \n",
       "4      0  January  "
      ]
     },
     "execution_count": 7,
     "metadata": {},
     "output_type": "execute_result"
    }
   ],
   "source": [
    "df.head()"
   ]
  },
  {
   "cell_type": "code",
   "execution_count": 8,
   "metadata": {},
   "outputs": [
    {
     "data": {
      "text/plain": [
       "0    188271\n",
       "1     63496\n",
       "Name: fires, dtype: int64"
      ]
     },
     "execution_count": 8,
     "metadata": {},
     "output_type": "execute_result"
    }
   ],
   "source": [
    "df['fires'].value_counts()"
   ]
  },
  {
   "cell_type": "code",
   "execution_count": 9,
   "metadata": {},
   "outputs": [],
   "source": [
    "for c in df.columns:\n",
    "    if df[c].dtype == 'object':\n",
    "        df[c] = df[c].astype('category')\n",
    "        \n",
    "X = df.drop(['id', 'data', 'fires'], axis=1)\n",
    "y = df['fires']"
   ]
  },
  {
   "cell_type": "markdown",
   "metadata": {},
   "source": [
    "## Otimização"
   ]
  },
  {
   "cell_type": "code",
   "execution_count": 11,
   "metadata": {},
   "outputs": [],
   "source": [
    "space = {\n",
    "    'Learning_Rate': hp.loguniform('Learning_Rate', np.log(0.005), np.log(0.5)),\n",
    "    'Min_Sum_Hessian': hp.loguniform('Min_Sum_Hessian', np.log(0.0001), np.log(50)),\n",
    "    'Min_Gain_Split': hp.loguniform('Min_Gain_Split', np.log(0.00001), np.log(1)),\n",
    "    'Lambda_L1' : hp.loguniform('Lambda_L1', np.log(0.001), np.log(1)),\n",
    "    'Lambda_L2' : hp.loguniform('Lambda_L2', np.log(0.001), np.log(1)),\n",
    "    'Bagging_Fraction' : hp.uniform('Bagging_Fraction', 0.1, 1),\n",
    "    'Feature_Fraction' : hp.uniform('Feature_Fraction', 0.1, 1),\n",
    "    'Min_Data_Leaf' : hp.quniform('Min_Data_Leaf', 1, 500, 1),\n",
    "    'Maximum_Leaves' : hp.quniform('Maximum_Leaves', 2, 100, 1),\n",
    "    'Max_Depth' : hp.quniform('Max_Depth', 1, 100, 1),\n",
    "    'Bagging_Frequence' : hp.quniform('Bagging_Frequence', 1, 10, 1),\n",
    "    'Maximum_Bins' : hp.quniform('Maximum_Bins', 15, 255, 1)\n",
    "}"
   ]
  },
  {
   "cell_type": "code",
   "execution_count": 14,
   "metadata": {},
   "outputs": [],
   "source": [
    "train_set = lgb.Dataset(X, label = y)\n",
    "def obj(x):\n",
    "    params = {'bagging_freq': int(x['Bagging_Frequence']),  'bagging_fraction': x['Bagging_Fraction'],  \n",
    "        'boost': 'gbdt', 'feature_fraction': x['Feature_Fraction'], 'max_depth': int(x['Max_Depth']), \n",
    "        'learning_rate': x['Learning_Rate'],  'metric': 'binary_error',  'min_data_in_leaf': int(x['Min_Data_Leaf']),     \n",
    "        'num_leaves': int(x['Maximum_Leaves']), 'objective': 'binary',  \n",
    "        'reg_alpha': x['Lambda_L1'],  'reg_lambda': x['Lambda_L2'], 'boost_from_average': False,\n",
    "        'verbosity': 1,  'max_bin': int(x['Maximum_Bins']), 'min_sum_hessian_in_leaf': x['Min_Sum_Hessian'],\n",
    "        'is_unbalance': True, 'min_gain_to_split': x['Min_Gain_Split'], 'num_threads': 2\n",
    "        }\n",
    "    cv_results = lgb.cv(params, train_set, num_boost_round=5000, nfold=5, metrics='binary_error', early_stopping_rounds=50, verbose_eval=5000)\n",
    "    best_score = np.min(cv_results['binary_error-mean'])\n",
    "    return best_score"
   ]
  },
  {
   "cell_type": "code",
   "execution_count": 16,
   "metadata": {
    "scrolled": true
   },
   "outputs": [
    {
     "name": "stdout",
     "output_type": "stream",
     "text": [
      "100%|██████████| 500/500 [16:12:57<00:00, 204.46s/trial, best loss: 0.19479915971574513]  \n"
     ]
    }
   ],
   "source": [
    "best = fmin(fn=obj, space=space, algo=tpe.suggest, max_evals=500)"
   ]
  },
  {
   "cell_type": "code",
   "execution_count": 17,
   "metadata": {},
   "outputs": [
    {
     "data": {
      "text/plain": [
       "{'Bagging_Fraction': 0.9795087092849564,\n",
       " 'Bagging_Frequence': 4.0,\n",
       " 'Feature_Fraction': 0.8890312497953411,\n",
       " 'Lambda_L1': 0.0355809446986378,\n",
       " 'Lambda_L2': 0.03233190140590459,\n",
       " 'Learning_Rate': 0.06705864182739209,\n",
       " 'Max_Depth': 59.0,\n",
       " 'Maximum_Bins': 28.0,\n",
       " 'Maximum_Leaves': 93.0,\n",
       " 'Min_Data_Leaf': 1.0,\n",
       " 'Min_Gain_Split': 0.0017095753820087405,\n",
       " 'Min_Sum_Hessian': 0.3665136416815327}"
      ]
     },
     "execution_count": 17,
     "metadata": {},
     "output_type": "execute_result"
    }
   ],
   "source": [
    "best"
   ]
  },
  {
   "cell_type": "markdown",
   "metadata": {},
   "source": [
    "## Validação/Predição"
   ]
  },
  {
   "cell_type": "code",
   "execution_count": 30,
   "metadata": {},
   "outputs": [],
   "source": [
    "respostas = pd.read_csv('respostas.csv')"
   ]
  },
  {
   "cell_type": "code",
   "execution_count": 32,
   "metadata": {},
   "outputs": [],
   "source": [
    "respostas['data'] = pd.to_datetime(respostas['data'], format='%d/%m/%Y')\n",
    "respostas['mes'] = respostas['data'].apply(lambda x: x.month_name())\n",
    "respostas['estado'] = respostas['estado'].astype('category')\n",
    "respostas['mes'] = respostas['mes'].astype('category')\n",
    "resp_X = respostas.drop(['id', 'data'], axis=1)"
   ]
  },
  {
   "cell_type": "code",
   "execution_count": 33,
   "metadata": {},
   "outputs": [],
   "source": [
    "params = {'bagging_freq': int(best['Bagging_Frequence']),  'bagging_fraction': best['Bagging_Fraction'],  \n",
    "        'boost': 'gbdt', 'feature_fraction': best['Feature_Fraction'], 'max_depth': int(best['Max_Depth']), \n",
    "        'learning_rate': best['Learning_Rate'],  'metric': 'binary_error',  'min_data_in_leaf': int(best['Min_Data_Leaf']),     \n",
    "        'num_leaves': int(best['Maximum_Leaves']), 'objective': 'binary',  \n",
    "        'reg_alpha': best['Lambda_L1'],  'reg_lambda': best['Lambda_L2'], 'boost_from_average': False,\n",
    "        'verbosity': 1,  'max_bin': int(best['Maximum_Bins']), 'min_sum_hessian_in_leaf': best['Min_Sum_Hessian'],\n",
    "        'is_unbalance': True, 'min_gain_to_split': best['Min_Gain_Split'], 'num_threads': 2\n",
    "}"
   ]
  },
  {
   "cell_type": "code",
   "execution_count": 34,
   "metadata": {},
   "outputs": [],
   "source": [
    "n_folds = 5\n",
    "skf = StratifiedKFold(n_folds, shuffle=True)\n",
    "oof = np.zeros(len(X))\n",
    "preds_resp = np.zeros(len(resp_X))"
   ]
  },
  {
   "cell_type": "code",
   "execution_count": 37,
   "metadata": {},
   "outputs": [
    {
     "name": "stdout",
     "output_type": "stream",
     "text": [
      "Training until validation scores don't improve for 50 rounds\n",
      "Early stopping, best iteration is:\n",
      "[860]\ttraining's binary_error: 0.141094\tvalid_1's binary_error: 0.206037\n",
      "Training until validation scores don't improve for 50 rounds\n",
      "Early stopping, best iteration is:\n",
      "[417]\ttraining's binary_error: 0.178205\tvalid_1's binary_error: 0.209858\n",
      "Training until validation scores don't improve for 50 rounds\n",
      "Early stopping, best iteration is:\n",
      "[683]\ttraining's binary_error: 0.155223\tvalid_1's binary_error: 0.209858\n",
      "Training until validation scores don't improve for 50 rounds\n",
      "Early stopping, best iteration is:\n",
      "[536]\ttraining's binary_error: 0.166711\tvalid_1's binary_error: 0.212142\n",
      "Training until validation scores don't improve for 50 rounds\n",
      "Early stopping, best iteration is:\n",
      "[941]\ttraining's binary_error: 0.133466\tvalid_1's binary_error: 0.207376\n"
     ]
    }
   ],
   "source": [
    "for train_idx, val_idx in skf.split(X.values, y.values):\n",
    "    train_data = lgb.Dataset(X.iloc[train_idx], y.iloc[train_idx])\n",
    "    val_data = lgb.Dataset(X.iloc[val_idx], y.iloc[val_idx])\n",
    "    lgbm = lgb.train(params, train_data, 5000, [train_data, val_data], early_stopping_rounds=50, verbose_eval=5000)\n",
    "    oof[val_idx] = lgbm.predict(X.iloc[val_idx], num_iteration = lgbm.best_iteration)\n",
    "    preds_resp += lgbm.predict(resp_X, num_iteration=lgbm.best_iteration) / n_folds"
   ]
  },
  {
   "cell_type": "code",
   "execution_count": 38,
   "metadata": {},
   "outputs": [
    {
     "name": "stdout",
     "output_type": "stream",
     "text": [
      "0.8656035663197458\n"
     ]
    }
   ],
   "source": [
    "print(roc_auc_score(y, oof))"
   ]
  },
  {
   "cell_type": "code",
   "execution_count": 39,
   "metadata": {},
   "outputs": [],
   "source": [
    "preds = [int(i>0.5) for i in oof]"
   ]
  },
  {
   "cell_type": "code",
   "execution_count": 40,
   "metadata": {},
   "outputs": [
    {
     "name": "stdout",
     "output_type": "stream",
     "text": [
      "              precision    recall  f1-score   support\n",
      "\n",
      "           0       0.91      0.80      0.85    188271\n",
      "           1       0.56      0.76      0.65     63496\n",
      "\n",
      "   micro avg       0.79      0.79      0.79    251767\n",
      "   macro avg       0.74      0.78      0.75    251767\n",
      "weighted avg       0.82      0.79      0.80    251767\n",
      "\n"
     ]
    }
   ],
   "source": [
    "print(classification_report(y, preds))"
   ]
  },
  {
   "cell_type": "code",
   "execution_count": 41,
   "metadata": {},
   "outputs": [
    {
     "name": "stdout",
     "output_type": "stream",
     "text": [
      "[[150739  37532]\n",
      " [ 15101  48395]]\n"
     ]
    }
   ],
   "source": [
    "print(confusion_matrix(y, preds))"
   ]
  },
  {
   "cell_type": "code",
   "execution_count": 42,
   "metadata": {
    "scrolled": true
   },
   "outputs": [
    {
     "name": "stdout",
     "output_type": "stream",
     "text": [
      "0.79094559652377\n"
     ]
    }
   ],
   "source": [
    "print(accuracy_score(y, preds))"
   ]
  },
  {
   "cell_type": "code",
   "execution_count": 43,
   "metadata": {},
   "outputs": [],
   "source": [
    "preds_respB = [int(i>0.5) for i in preds_resp]\n",
    "respostas['fires'] = preds_respB\n",
    "respostas[['id', 'fires']].to_csv('lightgbm3.csv', index=False)"
   ]
  }
 ],
 "metadata": {
  "kernelspec": {
   "display_name": "Python 3",
   "language": "python",
   "name": "python3"
  },
  "language_info": {
   "codemirror_mode": {
    "name": "ipython",
    "version": 3
   },
   "file_extension": ".py",
   "mimetype": "text/x-python",
   "name": "python",
   "nbconvert_exporter": "python",
   "pygments_lexer": "ipython3",
   "version": "3.7.3"
  }
 },
 "nbformat": 4,
 "nbformat_minor": 2
}
