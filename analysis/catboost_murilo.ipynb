{
 "cells": [
  {
   "cell_type": "markdown",
   "metadata": {},
   "source": [
    "# Catboost implementation\n",
    "\n",
    "#### Murilo Menezes Mendonça"
   ]
  },
  {
   "cell_type": "code",
   "execution_count": 138,
   "metadata": {},
   "outputs": [],
   "source": [
    "import numpy as np\n",
    "import pandas as pd\n",
    "from sklearn.ensemble import RandomForestClassifier\n",
    "from catboost import CatBoostClassifier\n",
    "from xgboost import XGBClassifier\n",
    "import seaborn as sns\n",
    "import matplotlib.pyplot as plt\n",
    "import missingno as msno\n",
    "\n",
    "import tqdm\n",
    "\n",
    "from sklearn.model_selection import train_test_split\n",
    "from sklearn.metrics import f1_score\n",
    "from imblearn.over_sampling import ADASYN\n",
    "from imblearn.under_sampling import AllKNN\n",
    "from imblearn.over_sampling import SMOTENC\n"
   ]
  },
  {
   "cell_type": "code",
   "execution_count": 135,
   "metadata": {},
   "outputs": [],
   "source": [
    "df = pd.read_csv('../data/database_fires.csv', index_col='id')"
   ]
  },
  {
   "cell_type": "code",
   "execution_count": 159,
   "metadata": {},
   "outputs": [],
   "source": [
    "def handle_nans(data):\n",
    "    data['data'] = pd.to_datetime(data['data'], format = '%d/%m/%Y')\n",
    "    ###handle nans    \n",
    "    #create columns with is_nan value\n",
    "    nans = data.isna()\n",
    "    nans.columns = [i + '_nan' for i in nans.columns]\n",
    "    data = pd.concat([data,nans], axis = 1)\n",
    "    # ffill by estacao\n",
    "    prev_nans = data.isna().sum()\n",
    "    grp_data = data.groupby('estacao')\n",
    "    dfs = []\n",
    "    for grp,df in tqdm.tqdm(grp_data):\n",
    "        df = df.sort_values(by = 'data')\n",
    "\n",
    "        df = df.fillna(method = 'ffill')\n",
    "        df = df.fillna(method = 'backfill')\n",
    "\n",
    "        dfs.append(df)\n",
    "    data = pd.concat(dfs)\n",
    "    # median by date and state\n",
    "    data['mes'] = data['data'].dt.month\n",
    "    grp_data = data.groupby(['estado','mes'])\n",
    "    dfs = []\n",
    "    for grp,df in tqdm.tqdm(grp_data):\n",
    "        df = df.fillna(df.median())\n",
    "        dfs.append(df)\n",
    "    data = pd.concat(dfs)\n",
    "    #median by state\n",
    "    grp_data = data.groupby('mes')\n",
    "    dfs = []\n",
    "    for grp,df in tqdm.tqdm(grp_data):\n",
    "        df = df.fillna(df.median())\n",
    "        dfs.append(df)\n",
    "    data = pd.concat(dfs)\n",
    "    return data"
   ]
  },
  {
   "cell_type": "code",
   "execution_count": 139,
   "metadata": {},
   "outputs": [
    {
     "name": "stderr",
     "output_type": "stream",
     "text": [
      "100%|██████████| 239/239 [00:00<00:00, 392.90it/s]\n",
      "100%|██████████| 312/312 [00:04<00:00, 64.96it/s]\n",
      "100%|██████████| 12/12 [00:01<00:00,  7.86it/s]\n"
     ]
    }
   ],
   "source": [
    "df = handle_nans(df)"
   ]
  },
  {
   "cell_type": "code",
   "execution_count": 160,
   "metadata": {},
   "outputs": [],
   "source": [
    "df['ano'] = df['data'].apply(lambda x: x.year)\n",
    "df['ano'] = df['ano'].astype(str)\n",
    "df['mes'] = df['mes'].astype(str)"
   ]
  },
  {
   "cell_type": "code",
   "execution_count": 169,
   "metadata": {},
   "outputs": [],
   "source": [
    "df['temp_delta'] = df['temp_max'] - df['temp_min']"
   ]
  },
  {
   "cell_type": "code",
   "execution_count": 184,
   "metadata": {},
   "outputs": [],
   "source": [
    "for estacao in df['estacao'].unique():\n",
    "    df.loc[df['estacao']==estacao,'prec_med'] = df[df['estacao']==estacao]['precipitacao'].mean()"
   ]
  },
  {
   "cell_type": "code",
   "execution_count": 191,
   "metadata": {
    "scrolled": true
   },
   "outputs": [],
   "source": [
    "for estacao in df['estacao'].unique():\n",
    "    df.loc[df['estacao']==estacao,'vel_vento_med_all'] = df[df['estacao']==estacao]['vel_vento_med'].mean()"
   ]
  },
  {
   "cell_type": "code",
   "execution_count": 193,
   "metadata": {},
   "outputs": [],
   "source": [
    "for estacao in df['estacao'].unique():\n",
    "    df.loc[df['estacao']==estacao,'umidade_rel_med_all'] = df[df['estacao']==estacao]['umidade_rel_med'].mean()"
   ]
  },
  {
   "cell_type": "code",
   "execution_count": 200,
   "metadata": {},
   "outputs": [],
   "source": [
    "df['estacao'] = df['estacao'].astype(str)\n",
    "\n",
    "X = df.drop(['data','fires', 'fires_nan'], axis=1)\n",
    "y = df['fires']"
   ]
  },
  {
   "cell_type": "code",
   "execution_count": 201,
   "metadata": {},
   "outputs": [],
   "source": [
    "X_train, X_test, y_train, y_test = train_test_split(\n",
    "    X, y, test_size=0.2,random_state=42)\n",
    "\n",
    "cat_features = [0, 1, 23, 24]\n",
    "\n",
    "train_data = X_train\n",
    "train_labels = y_train\n",
    "\n",
    "eval_data = X_test"
   ]
  },
  {
   "cell_type": "code",
   "execution_count": 202,
   "metadata": {},
   "outputs": [
    {
     "name": "stdout",
     "output_type": "stream",
     "text": [
      "0:\tlearn: 0.4763649\ttotal: 206ms\tremaining: 3.92s\n",
      "1:\tlearn: 0.4323271\ttotal: 583ms\tremaining: 5.25s\n",
      "2:\tlearn: 0.4158709\ttotal: 780ms\tremaining: 4.42s\n",
      "3:\tlearn: 0.4063971\ttotal: 985ms\tremaining: 3.94s\n",
      "4:\tlearn: 0.4015067\ttotal: 1.16s\tremaining: 3.47s\n",
      "5:\tlearn: 0.3970202\ttotal: 1.35s\tremaining: 3.15s\n",
      "6:\tlearn: 0.3934349\ttotal: 1.54s\tremaining: 2.86s\n",
      "7:\tlearn: 0.3906310\ttotal: 1.74s\tremaining: 2.6s\n",
      "8:\tlearn: 0.3882335\ttotal: 1.91s\tremaining: 2.33s\n",
      "9:\tlearn: 0.3858644\ttotal: 2.1s\tremaining: 2.1s\n",
      "10:\tlearn: 0.3829002\ttotal: 2.27s\tremaining: 1.85s\n",
      "11:\tlearn: 0.3805982\ttotal: 2.47s\tremaining: 1.64s\n",
      "12:\tlearn: 0.3793827\ttotal: 2.63s\tremaining: 1.41s\n",
      "13:\tlearn: 0.3773018\ttotal: 2.83s\tremaining: 1.21s\n",
      "14:\tlearn: 0.3755128\ttotal: 2.99s\tremaining: 997ms\n",
      "15:\tlearn: 0.3743401\ttotal: 3.18s\tremaining: 795ms\n",
      "16:\tlearn: 0.3732715\ttotal: 3.35s\tremaining: 592ms\n",
      "17:\tlearn: 0.3720602\ttotal: 3.55s\tremaining: 394ms\n",
      "18:\tlearn: 0.3706045\ttotal: 3.73s\tremaining: 196ms\n",
      "19:\tlearn: 0.3696043\ttotal: 3.92s\tremaining: 0us\n"
     ]
    }
   ],
   "source": [
    "model = CatBoostClassifier(iterations=20,\n",
    "                           learning_rate=0.5,\n",
    "                           depth=10)\n",
    "model.fit(train_data, train_labels, cat_features)\n",
    "preds_class = model.predict(eval_data)"
   ]
  },
  {
   "cell_type": "code",
   "execution_count": 203,
   "metadata": {},
   "outputs": [
    {
     "data": {
      "text/plain": [
       "0.8214044564483457"
      ]
     },
     "execution_count": 203,
     "metadata": {},
     "output_type": "execute_result"
    }
   ],
   "source": [
    "accuracy_score(preds_class, y_test)"
   ]
  },
  {
   "cell_type": "code",
   "execution_count": 198,
   "metadata": {},
   "outputs": [
    {
     "data": {
      "text/plain": [
       "0.5972627327798968"
      ]
     },
     "execution_count": 198,
     "metadata": {},
     "output_type": "execute_result"
    }
   ],
   "source": [
    "f1_score(preds_class, y_test)"
   ]
  },
  {
   "cell_type": "markdown",
   "metadata": {},
   "source": [
    "# Testing"
   ]
  },
  {
   "cell_type": "code",
   "execution_count": 95,
   "metadata": {},
   "outputs": [],
   "source": [
    "df_test = pd.read_csv('../data/respostas.csv', index_col='id')\n",
    "df_test['data'] = pd.to_datetime(df_test['data'], format = '%d/%m/%Y')\n",
    "df_test['mes'] = df_test['data'].apply(lambda x: x.month)\n",
    "lista = ['precipitacao',\n",
    "'temp_max',\n",
    "'temp_min',\n",
    "'insolacao',\n",
    "'evaporacao_piche',\n",
    "'temp_comp_med',\n",
    "'umidade_rel_med',\n",
    "'vel_vento_med']\n",
    "df_test.sort_values(by='estado', inplace=True)\n",
    "for column in lista:\n",
    "    df_test = df_test.fillna(method='ffill')\n",
    "    df_test = df_test.fillna(method='bfill')\n",
    "df_test['estacao'] = df_test['estacao'].astype(str)\n",
    "\n",
    "eval_data = df_test.drop(['data'], axis=1)"
   ]
  },
  {
   "cell_type": "code",
   "execution_count": 98,
   "metadata": {
    "scrolled": true
   },
   "outputs": [],
   "source": [
    "preds_class = model.predict(eval_data)"
   ]
  },
  {
   "cell_type": "code",
   "execution_count": 99,
   "metadata": {},
   "outputs": [],
   "source": [
    "df_test['fires'] = preds_class "
   ]
  },
  {
   "cell_type": "code",
   "execution_count": 100,
   "metadata": {},
   "outputs": [
    {
     "data": {
      "text/html": [
       "<div>\n",
       "<style scoped>\n",
       "    .dataframe tbody tr th:only-of-type {\n",
       "        vertical-align: middle;\n",
       "    }\n",
       "\n",
       "    .dataframe tbody tr th {\n",
       "        vertical-align: top;\n",
       "    }\n",
       "\n",
       "    .dataframe thead th {\n",
       "        text-align: right;\n",
       "    }\n",
       "</style>\n",
       "<table border=\"1\" class=\"dataframe\">\n",
       "  <thead>\n",
       "    <tr style=\"text-align: right;\">\n",
       "      <th></th>\n",
       "      <th>estado</th>\n",
       "      <th>estacao</th>\n",
       "      <th>data</th>\n",
       "      <th>precipitacao</th>\n",
       "      <th>temp_max</th>\n",
       "      <th>temp_min</th>\n",
       "      <th>insolacao</th>\n",
       "      <th>evaporacao_piche</th>\n",
       "      <th>temp_comp_med</th>\n",
       "      <th>umidade_rel_med</th>\n",
       "      <th>vel_vento_med</th>\n",
       "      <th>altitude</th>\n",
       "      <th>mes</th>\n",
       "      <th>fires</th>\n",
       "    </tr>\n",
       "    <tr>\n",
       "      <th>id</th>\n",
       "      <th></th>\n",
       "      <th></th>\n",
       "      <th></th>\n",
       "      <th></th>\n",
       "      <th></th>\n",
       "      <th></th>\n",
       "      <th></th>\n",
       "      <th></th>\n",
       "      <th></th>\n",
       "      <th></th>\n",
       "      <th></th>\n",
       "      <th></th>\n",
       "      <th></th>\n",
       "      <th></th>\n",
       "    </tr>\n",
       "  </thead>\n",
       "  <tbody>\n",
       "    <tr>\n",
       "      <th>251768</th>\n",
       "      <td>AC</td>\n",
       "      <td>50484</td>\n",
       "      <td>2016-01-27</td>\n",
       "      <td>5.8</td>\n",
       "      <td>34.7</td>\n",
       "      <td>23.7</td>\n",
       "      <td>8.8</td>\n",
       "      <td>2.5</td>\n",
       "      <td>27.84</td>\n",
       "      <td>92.00</td>\n",
       "      <td>1.02888</td>\n",
       "      <td>170.0</td>\n",
       "      <td>1</td>\n",
       "      <td>0</td>\n",
       "    </tr>\n",
       "    <tr>\n",
       "      <th>252067</th>\n",
       "      <td>AC</td>\n",
       "      <td>22864</td>\n",
       "      <td>2019-08-13</td>\n",
       "      <td>0.0</td>\n",
       "      <td>35.4</td>\n",
       "      <td>21.6</td>\n",
       "      <td>8.8</td>\n",
       "      <td>2.5</td>\n",
       "      <td>27.48</td>\n",
       "      <td>73.00</td>\n",
       "      <td>0.34296</td>\n",
       "      <td>190.0</td>\n",
       "      <td>8</td>\n",
       "      <td>1</td>\n",
       "    </tr>\n",
       "    <tr>\n",
       "      <th>252066</th>\n",
       "      <td>AC</td>\n",
       "      <td>22864</td>\n",
       "      <td>2019-08-12</td>\n",
       "      <td>0.0</td>\n",
       "      <td>34.4</td>\n",
       "      <td>22.1</td>\n",
       "      <td>8.8</td>\n",
       "      <td>2.5</td>\n",
       "      <td>27.26</td>\n",
       "      <td>78.00</td>\n",
       "      <td>0.34296</td>\n",
       "      <td>190.0</td>\n",
       "      <td>8</td>\n",
       "      <td>1</td>\n",
       "    </tr>\n",
       "    <tr>\n",
       "      <th>252065</th>\n",
       "      <td>AC</td>\n",
       "      <td>22864</td>\n",
       "      <td>2019-08-11</td>\n",
       "      <td>0.0</td>\n",
       "      <td>34.2</td>\n",
       "      <td>20.9</td>\n",
       "      <td>8.8</td>\n",
       "      <td>2.5</td>\n",
       "      <td>27.30</td>\n",
       "      <td>77.00</td>\n",
       "      <td>0.34296</td>\n",
       "      <td>190.0</td>\n",
       "      <td>8</td>\n",
       "      <td>1</td>\n",
       "    </tr>\n",
       "    <tr>\n",
       "      <th>252064</th>\n",
       "      <td>AC</td>\n",
       "      <td>22864</td>\n",
       "      <td>2019-08-10</td>\n",
       "      <td>0.0</td>\n",
       "      <td>35.0</td>\n",
       "      <td>10.9</td>\n",
       "      <td>8.8</td>\n",
       "      <td>2.5</td>\n",
       "      <td>25.38</td>\n",
       "      <td>87.25</td>\n",
       "      <td>0.34296</td>\n",
       "      <td>190.0</td>\n",
       "      <td>8</td>\n",
       "      <td>1</td>\n",
       "    </tr>\n",
       "  </tbody>\n",
       "</table>\n",
       "</div>"
      ],
      "text/plain": [
       "       estado estacao       data  precipitacao  temp_max  temp_min  insolacao  \\\n",
       "id                                                                              \n",
       "251768     AC   50484 2016-01-27           5.8      34.7      23.7        8.8   \n",
       "252067     AC   22864 2019-08-13           0.0      35.4      21.6        8.8   \n",
       "252066     AC   22864 2019-08-12           0.0      34.4      22.1        8.8   \n",
       "252065     AC   22864 2019-08-11           0.0      34.2      20.9        8.8   \n",
       "252064     AC   22864 2019-08-10           0.0      35.0      10.9        8.8   \n",
       "\n",
       "        evaporacao_piche  temp_comp_med  umidade_rel_med  vel_vento_med  \\\n",
       "id                                                                        \n",
       "251768               2.5          27.84            92.00        1.02888   \n",
       "252067               2.5          27.48            73.00        0.34296   \n",
       "252066               2.5          27.26            78.00        0.34296   \n",
       "252065               2.5          27.30            77.00        0.34296   \n",
       "252064               2.5          25.38            87.25        0.34296   \n",
       "\n",
       "        altitude  mes  fires  \n",
       "id                            \n",
       "251768     170.0    1      0  \n",
       "252067     190.0    8      1  \n",
       "252066     190.0    8      1  \n",
       "252065     190.0    8      1  \n",
       "252064     190.0    8      1  "
      ]
     },
     "execution_count": 100,
     "metadata": {},
     "output_type": "execute_result"
    }
   ],
   "source": [
    "df_test.head()"
   ]
  },
  {
   "cell_type": "code",
   "execution_count": 101,
   "metadata": {},
   "outputs": [],
   "source": [
    "df_test['fires'].reset_index().to_csv('../data/submission_6.csv', index=False)"
   ]
  },
  {
   "cell_type": "markdown",
   "metadata": {},
   "source": [
    "## To-do\n",
    "\n",
    "[x] Incluir data com meses do ano\n",
    "\n",
    "[x] Balancear variavel resposta\n",
    "\n",
    "[ ] Tentar incluir estacao\n",
    "\n",
    "[ ] Tratar NaNs de uma forma melhor\n",
    "\n",
    "[ ] Diminuir granularidade de estados para regioes\n",
    "\n",
    "[ ] Diminuir granularidade de meses para estações"
   ]
  },
  {
   "cell_type": "code",
   "execution_count": null,
   "metadata": {},
   "outputs": [],
   "source": []
  }
 ],
 "metadata": {
  "kernelspec": {
   "display_name": "Python 3",
   "language": "python",
   "name": "python3"
  },
  "language_info": {
   "codemirror_mode": {
    "name": "ipython",
    "version": 3
   },
   "file_extension": ".py",
   "mimetype": "text/x-python",
   "name": "python",
   "nbconvert_exporter": "python",
   "pygments_lexer": "ipython3",
   "version": "3.6.9"
  }
 },
 "nbformat": 4,
 "nbformat_minor": 2
}
